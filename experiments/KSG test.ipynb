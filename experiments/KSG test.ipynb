{
 "cells": [
  {
   "cell_type": "code",
   "execution_count": 1,
   "id": "905d477a",
   "metadata": {},
   "outputs": [],
   "source": [
    "import numpy as np\n",
    "from MINE.gtm import GTM\n",
    "\n",
    "import tensorflow as tf\n",
    "from knnie import kraskov_mi\n",
    "import pandas as pd\n",
    "from tqdm import tqdm\n",
    "\n",
    "from MINE.augmentation import *"
   ]
  },
  {
   "cell_type": "code",
   "execution_count": 2,
   "id": "0fb719fc",
   "metadata": {},
   "outputs": [],
   "source": [
    "def calculate_cmi(X, Y, Z):\n",
    "    return kraskov_mi(X, np.concatenate((Y, Z), axis=1)) - kraskov_mi(X, Z)\n",
    "\n",
    "def estimate_mi(X, Y):\n",
    "    return kraskov_mi(X, Y)"
   ]
  },
  {
   "cell_type": "code",
   "execution_count": 3,
   "id": "dbf57f6b",
   "metadata": {},
   "outputs": [],
   "source": [
    "def prepare_datasets(n):\n",
    "    def create_uni(n, d):\n",
    "        tmp = np.random.choice(range(d), n)\n",
    "        tmp2 = np.zeros((tmp.size, tmp.max() + 1))\n",
    "        tmp2[np.arange(tmp.size), tmp] = 1\n",
    "        return tmp2\n",
    "    aug = Augmentation()\n",
    "\n",
    "    if n == 10000:\n",
    "        print('uni')\n",
    "    \n",
    "    uni = create_uni(n, 16)\n",
    "    \n",
    "    if n == 10000:\n",
    "        print('uni aug')\n",
    "    \n",
    "    aug.transform(uni, n=10, m=1)\n",
    "\n",
    "    mean = np.array([0, 1])\n",
    "    cov = np.array([[1, 0], [0, 2]])\n",
    "    \n",
    "    if n == 10000:\n",
    "        print('norm not corr')\n",
    "    norm_not_corr = np.random.multivariate_normal(mean=mean, cov=cov, size=n)\n",
    "    if n == 10000:\n",
    "        print('norm not corr aug')\n",
    "    aug.transform(norm_not_corr, n=10, m=1)\n",
    "\n",
    "    mean = np.array([0, 1])\n",
    "    cov = np.array([[1, 0.75], [0.75, 2]])\n",
    "    \n",
    "    if n == 10000:\n",
    "        print('norm corr')\n",
    "    norm_corr = np.random.multivariate_normal(mean=mean, cov=cov, size=n)\n",
    "    if n == 10000:\n",
    "        print('norm corr aug')\n",
    "    aug.transform(norm_corr, n=10, m=1)\n",
    "\n",
    "\n",
    "    cov = np.array([[ 2.97, -0.36,  1.12, -0.97,  0.07,  0.96,  2.36, -0.55,  0.88],\n",
    "       [-0.36,  1.27,  0.07, -0.2 , -0.98, -0.97, -0.49,  0.46,  0.59],\n",
    "       [ 1.12,  0.07,  4.21,  0.27, -2.04, -1.01,  0.45,  0.26,  0.73],\n",
    "       [-0.97, -0.2 ,  0.27,  2.52, -0.57, -1.22,  0.45,  0.41, -0.89],\n",
    "       [ 0.07, -0.98, -2.04, -0.57,  2.73,  2.26,  0.47, -1.12, -0.01],\n",
    "       [ 0.96, -0.97, -1.01, -1.22,  2.26,  2.82,  0.78, -2.03,  0.51],\n",
    "       [ 2.36, -0.49,  0.45,  0.45,  0.47,  0.78,  3.22, -0.99,  0.96],\n",
    "       [-0.55,  0.46,  0.26,  0.41, -1.12, -2.03, -0.99,  2.75, -0.98],\n",
    "       [ 0.88,  0.59,  0.73, -0.89, -0.01,  0.51,  0.96, -0.98,  2.2 ]])\n",
    "\n",
    "    mean = np.array([-4, -3, -2, -1, 0, 1, 2, 3, 4])\n",
    "    \n",
    "    if n == 10000:\n",
    "        print('norm hd')\n",
    "\n",
    "    norm_hd = np.random.multivariate_normal(mean=mean, cov=cov, size=n)\n",
    "    \n",
    "    if n == 10000:\n",
    "        print('norm hd aug')\n",
    "#     aug.transform(norm_hd, n=10, m=1)\n",
    "\n",
    "    datasets = {'uni': uni,\n",
    "               'norm_not_corr': norm_not_corr,\n",
    "               'norm_corr': norm_corr,\n",
    "               'norm_hd': norm_hd}\n",
    "    return datasets"
   ]
  },
  {
   "cell_type": "code",
   "execution_count": 4,
   "id": "1d71af74",
   "metadata": {},
   "outputs": [],
   "source": [
    "np.random.seed(77)\n",
    "seeds = np.random.choice(1_000_000_000, size=100, replace=False)"
   ]
  },
  {
   "cell_type": "code",
   "execution_count": 5,
   "id": "ecea9fd0",
   "metadata": {},
   "outputs": [
    {
     "data": {
      "text/plain": [
       "(100,)"
      ]
     },
     "execution_count": 5,
     "metadata": {},
     "output_type": "execute_result"
    }
   ],
   "source": [
    "seeds.shape"
   ]
  },
  {
   "cell_type": "markdown",
   "id": "4f95f500",
   "metadata": {},
   "source": [
    "# MI"
   ]
  },
  {
   "cell_type": "code",
   "execution_count": null,
   "id": "d1e3cd53",
   "metadata": {},
   "outputs": [
    {
     "name": "stderr",
     "output_type": "stream",
     "text": [
      "  3%|██▍                                                                               | 3/100 [00:00<00:03, 27.15it/s]"
     ]
    },
    {
     "name": "stdout",
     "output_type": "stream",
     "text": [
      "100\n"
     ]
    },
    {
     "name": "stderr",
     "output_type": "stream",
     "text": [
      "100%|████████████████████████████████████████████████████████████████████████████████| 100/100 [00:03<00:00, 27.13it/s]\n",
      "  0%|                                                                                          | 0/100 [00:00<?, ?it/s]"
     ]
    },
    {
     "name": "stdout",
     "output_type": "stream",
     "text": [
      "1000\n"
     ]
    },
    {
     "name": "stderr",
     "output_type": "stream",
     "text": [
      "100%|████████████████████████████████████████████████████████████████████████████████| 100/100 [00:38<00:00,  2.62it/s]\n",
      "  0%|                                                                                          | 0/100 [00:00<?, ?it/s]"
     ]
    },
    {
     "name": "stdout",
     "output_type": "stream",
     "text": [
      "10000\n",
      "uni\n",
      "uni aug\n",
      "norm not corr\n",
      "norm not corr aug\n",
      "norm corr\n",
      "norm corr aug\n",
      "norm hd\n",
      "norm hd aug\n"
     ]
    }
   ],
   "source": [
    "result = []\n",
    "for n in [100, 1000, 10000]:\n",
    "    print(n)\n",
    "    for seed in tqdm(seeds):\n",
    "        tf.keras.utils.set_random_seed(int(seed))\n",
    "        datasets = prepare_datasets(n)\n",
    "        for dataset_name, dataset in datasets.items():\n",
    "            if 'aug' in dataset_name:\n",
    "                continue\n",
    "            if 'uni' in dataset_name:\n",
    "                x_ind = list(range(16))\n",
    "                y_ind = list(range(16))\n",
    "            else:\n",
    "                if 'aug' not in dataset_name:\n",
    "                    size = dataset.shape[1]//2\n",
    "                    y_ind = list(range(size, dataset.shape[1]))\n",
    "                else:\n",
    "                    size = dataset[0].shape[1]//2\n",
    "                    y_ind = list(range(size, dataset[0].shape[1]))\n",
    "                x_ind = list(range(size))\n",
    "\n",
    "                if 'norm_hd' in dataset_name:\n",
    "                    y_ind = y_ind[1:]\n",
    "\n",
    "#             print(dataset_name, x_ind, y_ind)\n",
    "\n",
    "            mi = estimate_mi(dataset[:, x_ind], dataset[:, y_ind])\n",
    "            row = [dataset_name, 'orig', n, 'ksg', None, None, seed, mi, None]\n",
    "            result.append(row)"
   ]
  },
  {
   "cell_type": "code",
   "execution_count": 7,
   "id": "b4930e9a",
   "metadata": {},
   "outputs": [
    {
     "ename": "ValueError",
     "evalue": "math domain error",
     "output_type": "error",
     "traceback": [
      "\u001b[1;31m---------------------------------------------------------------------------\u001b[0m",
      "\u001b[1;31mValueError\u001b[0m                                Traceback (most recent call last)",
      "\u001b[1;32m<ipython-input-7-9d135e5ad7b7>\u001b[0m in \u001b[0;36m<module>\u001b[1;34m\u001b[0m\n\u001b[1;32m----> 1\u001b[1;33m \u001b[0mkraskov_mi\u001b[0m\u001b[1;33m(\u001b[0m\u001b[0mdataset\u001b[0m\u001b[1;33m[\u001b[0m\u001b[1;33m:\u001b[0m\u001b[1;33m,\u001b[0m \u001b[0mx_ind\u001b[0m\u001b[1;33m]\u001b[0m\u001b[1;33m,\u001b[0m \u001b[0mdataset\u001b[0m\u001b[1;33m[\u001b[0m\u001b[1;33m:\u001b[0m\u001b[1;33m,\u001b[0m \u001b[0my_ind\u001b[0m\u001b[1;33m]\u001b[0m\u001b[1;33m)\u001b[0m\u001b[1;33m\u001b[0m\u001b[1;33m\u001b[0m\u001b[0m\n\u001b[0m",
      "\u001b[1;32mE:\\Projects\\Mine exp\\knnie.py\u001b[0m in \u001b[0;36mkraskov_mi\u001b[1;34m(x, y, k)\u001b[0m\n\u001b[0;32m     43\u001b[0m     \u001b[0mans_y\u001b[0m \u001b[1;33m=\u001b[0m \u001b[0mdigamma\u001b[0m\u001b[1;33m(\u001b[0m\u001b[0mN\u001b[0m\u001b[1;33m)\u001b[0m \u001b[1;33m+\u001b[0m \u001b[0mdy\u001b[0m \u001b[1;33m*\u001b[0m \u001b[0mlog\u001b[0m\u001b[1;33m(\u001b[0m\u001b[1;36m2\u001b[0m\u001b[1;33m)\u001b[0m\u001b[1;33m\u001b[0m\u001b[1;33m\u001b[0m\u001b[0m\n\u001b[0;32m     44\u001b[0m     \u001b[1;32mfor\u001b[0m \u001b[0mi\u001b[0m \u001b[1;32min\u001b[0m \u001b[0mrange\u001b[0m\u001b[1;33m(\u001b[0m\u001b[0mN\u001b[0m\u001b[1;33m)\u001b[0m\u001b[1;33m:\u001b[0m\u001b[1;33m\u001b[0m\u001b[1;33m\u001b[0m\u001b[0m\n\u001b[1;32m---> 45\u001b[1;33m         \u001b[0mans_xy\u001b[0m \u001b[1;33m+=\u001b[0m \u001b[1;33m(\u001b[0m\u001b[0mdx\u001b[0m \u001b[1;33m+\u001b[0m \u001b[0mdy\u001b[0m\u001b[1;33m)\u001b[0m \u001b[1;33m*\u001b[0m \u001b[0mlog\u001b[0m\u001b[1;33m(\u001b[0m\u001b[0mknn_dis\u001b[0m\u001b[1;33m[\u001b[0m\u001b[0mi\u001b[0m\u001b[1;33m]\u001b[0m\u001b[1;33m)\u001b[0m \u001b[1;33m/\u001b[0m \u001b[0mN\u001b[0m\u001b[1;33m\u001b[0m\u001b[1;33m\u001b[0m\u001b[0m\n\u001b[0m\u001b[0;32m     46\u001b[0m         ans_x += -digamma(len(tree_x.query_ball_point(x[i], knn_dis[i] - 1e-15, p=float('inf')))) / N + dx * log(\n\u001b[0;32m     47\u001b[0m             knn_dis[i] + 1e-9) / N\n",
      "\u001b[1;31mValueError\u001b[0m: math domain error"
     ]
    }
   ],
   "source": [
    "kraskov_mi(dataset[:, x_ind], dataset[:, y_ind])"
   ]
  },
  {
   "cell_type": "markdown",
   "id": "1e7a83c7",
   "metadata": {},
   "source": [
    "# CMI"
   ]
  },
  {
   "cell_type": "code",
   "execution_count": 5,
   "id": "dedbf52a",
   "metadata": {
    "scrolled": true
   },
   "outputs": [
    {
     "name": "stdout",
     "output_type": "stream",
     "text": [
      "0.6\n",
      "\t 1000\n",
      "\t 5000\n",
      "\t 10000\n",
      "0.75\n",
      "\t 1000\n",
      "\t 5000\n",
      "\t 10000\n",
      "0.9\n",
      "\t 1000\n",
      "\t 5000\n",
      "\t 10000\n"
     ]
    }
   ],
   "source": [
    "result = []\n",
    "for gamma in [0.6, 0.75, 0.9]:\n",
    "    print(gamma)\n",
    "    for n in [1000, 5000, 10000]:\n",
    "        print('\\t', n)\n",
    "        for seed in seeds:\n",
    "            tf.keras.utils.set_random_seed(int(seed))\n",
    "            gtm = GTM(12, gamma)\n",
    "            X, Y = gtm.generate(n)\n",
    "            for i in range(1, 11):\n",
    "                if i > 1:\n",
    "                    continue\n",
    "                result.append([gamma, n, i, calculate_cmi(X[:, i].reshape(-1, 1), Y.reshape(-1, 1), X[:, :i])])"
   ]
  },
  {
   "cell_type": "code",
   "execution_count": 16,
   "id": "7893b2b0",
   "metadata": {},
   "outputs": [
    {
     "data": {
      "text/plain": [
       "[(0, 100),\n",
       " (0, 101),\n",
       " (0, 102),\n",
       " (1, 100),\n",
       " (1, 101),\n",
       " (1, 102),\n",
       " (2, 100),\n",
       " (2, 101),\n",
       " (2, 102)]"
      ]
     },
     "execution_count": 16,
     "metadata": {},
     "output_type": "execute_result"
    }
   ],
   "source": [
    "[(x, y) for x in range(3) for y in range(100, 103)]"
   ]
  },
  {
   "cell_type": "code",
   "execution_count": 6,
   "id": "159c6509",
   "metadata": {},
   "outputs": [],
   "source": [
    "result2 = pd.DataFrame(result)\n",
    "result2['seed'] = [seed for gamma in [0.6, 0.75, 0.9] for n in [1000, 5000, 10_000] for seed in seeds for c in range(1, 2)]\n",
    "result2.columns = ['gamma', 'n', 'c', 'cmi', 'seed']"
   ]
  },
  {
   "cell_type": "code",
   "execution_count": 7,
   "id": "795d5ab5",
   "metadata": {},
   "outputs": [],
   "source": [
    "result2.to_csv('KSG3.csv')"
   ]
  },
  {
   "cell_type": "code",
   "execution_count": 21,
   "id": "d9ed291b",
   "metadata": {},
   "outputs": [],
   "source": [
    "result1 = pd.read_csv('KSG.csv', index_col=0)\n",
    "result1 = result1.loc[result1.c <= 10]\n",
    "\n",
    "result2 = pd.read_csv('KSG3.csv', index_col=0)\n",
    "\n",
    "result3 = pd.read_csv('KSG2.csv', index_col=0)"
   ]
  },
  {
   "cell_type": "code",
   "execution_count": 23,
   "id": "b8bf7c13",
   "metadata": {},
   "outputs": [],
   "source": [
    "pd.concat((result1, result2, result3)).to_csv('KSG.csv')"
   ]
  },
  {
   "cell_type": "markdown",
   "id": "cecc3573",
   "metadata": {},
   "source": [
    "# Selection"
   ]
  },
  {
   "cell_type": "code",
   "execution_count": 5,
   "id": "08af8de7",
   "metadata": {},
   "outputs": [],
   "source": [
    "def select(x, y):\n",
    "    y = y.reshape(-1, 1)\n",
    "    selected = []\n",
    "    remaining = set(list(range(x.shape[1])))\n",
    "    max_ = -np.inf\n",
    "    best_ = None\n",
    "    for i in range(x.shape[1]):\n",
    "        mi = estimate_mi(x[:, [i]], y.reshape(-1, 1))\n",
    "        if mi > max_:\n",
    "            max_ = mi\n",
    "            best_ = i\n",
    "\n",
    "    selected.append(best_)\n",
    "    remaining.remove(best_)\n",
    "\n",
    "    while len(remaining) > 1:\n",
    "        max_ = -np.inf\n",
    "        best_ = None\n",
    "        for r in remaining:\n",
    "            cmi = calculate_cmi(x[:, [r]], y.reshape(-1, 1), x[:, selected])\n",
    "            if cmi > max_:\n",
    "                max_ = cmi\n",
    "                best_ = r\n",
    "        selected.append(best_)\n",
    "        remaining.remove(best_)\n",
    "    selected.append(remaining.pop())\n",
    "    return selected"
   ]
  },
  {
   "cell_type": "code",
   "execution_count": 6,
   "id": "6f8bf966",
   "metadata": {},
   "outputs": [
    {
     "name": "stdout",
     "output_type": "stream",
     "text": [
      "0.6\n",
      "\t 1000\n",
      "\t 5000\n",
      "\t 10000\n",
      "0.75\n",
      "\t 1000\n",
      "\t 5000\n",
      "\t 10000\n",
      "0.9\n",
      "\t 1000\n",
      "\t 5000\n",
      "\t 10000\n"
     ]
    }
   ],
   "source": [
    "result = []\n",
    "for gamma in [0.6, 0.75, 0.9]:\n",
    "    print(gamma)\n",
    "    for n in [1000, 5000, 10000]:\n",
    "        print('\\t', n)\n",
    "        for seed in seeds:\n",
    "            tf.keras.utils.set_random_seed(int(seed))\n",
    "            gtm = GTM(10, gamma)\n",
    "            X, Y = gtm.generate(n)\n",
    "            \n",
    "            result.append([gamma, n, select(X, Y)])"
   ]
  },
  {
   "cell_type": "code",
   "execution_count": 10,
   "id": "f0628568",
   "metadata": {},
   "outputs": [],
   "source": [
    "result = pd.DataFrame(result, columns=['gamma', 'n', 'selection'])"
   ]
  },
  {
   "cell_type": "code",
   "execution_count": 11,
   "id": "ba659d44",
   "metadata": {},
   "outputs": [],
   "source": [
    "result['seed'] = [seed for gamma in [0.6, 0.75, 0.9] for n in [1000, 5000, 10_000] for seed in seeds]"
   ]
  },
  {
   "cell_type": "code",
   "execution_count": 13,
   "id": "4935a656",
   "metadata": {},
   "outputs": [],
   "source": [
    "result.to_csv('ksg_selection.csv')"
   ]
  }
 ],
 "metadata": {
  "kernelspec": {
   "display_name": "Python 3",
   "language": "python",
   "name": "python3"
  },
  "language_info": {
   "codemirror_mode": {
    "name": "ipython",
    "version": 3
   },
   "file_extension": ".py",
   "mimetype": "text/x-python",
   "name": "python",
   "nbconvert_exporter": "python",
   "pygments_lexer": "ipython3",
   "version": "3.9.4"
  }
 },
 "nbformat": 4,
 "nbformat_minor": 5
}
